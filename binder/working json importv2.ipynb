{
 "cells": [
  {
   "cell_type": "code",
   "execution_count": 3,
   "metadata": {},
   "outputs": [
    {
     "name": "stdout",
     "output_type": "stream",
     "text": [
      "Requirement already satisfied: panda in /srv/conda/envs/notebook/lib/python3.7/site-packages (0.3.1)\n",
      "Requirement already satisfied: requests in /srv/conda/envs/notebook/lib/python3.7/site-packages (from panda) (2.22.0)\n",
      "Requirement already satisfied: setuptools in /srv/conda/envs/notebook/lib/python3.7/site-packages (from panda) (41.2.0)\n",
      "Requirement already satisfied: idna<2.9,>=2.5 in /srv/conda/envs/notebook/lib/python3.7/site-packages (from requests->panda) (2.8)\n",
      "Requirement already satisfied: certifi>=2017.4.17 in /srv/conda/envs/notebook/lib/python3.7/site-packages (from requests->panda) (2019.9.11)\n",
      "Requirement already satisfied: urllib3!=1.25.0,!=1.25.1,<1.26,>=1.21.1 in /srv/conda/envs/notebook/lib/python3.7/site-packages (from requests->panda) (1.25.3)\n",
      "Requirement already satisfied: chardet<3.1.0,>=3.0.2 in /srv/conda/envs/notebook/lib/python3.7/site-packages (from requests->panda) (3.0.4)\n",
      "Requirement already satisfied: pandas in /srv/conda/envs/notebook/lib/python3.7/site-packages (0.25.3)\n",
      "Requirement already satisfied: python-dateutil>=2.6.1 in /srv/conda/envs/notebook/lib/python3.7/site-packages (from pandas) (2.8.0)\n",
      "Requirement already satisfied: pytz>=2017.2 in /srv/conda/envs/notebook/lib/python3.7/site-packages (from pandas) (2019.3)\n",
      "Requirement already satisfied: numpy>=1.13.3 in /srv/conda/envs/notebook/lib/python3.7/site-packages (from pandas) (1.17.4)\n",
      "Requirement already satisfied: six>=1.5 in /srv/conda/envs/notebook/lib/python3.7/site-packages (from python-dateutil>=2.6.1->pandas) (1.12.0)\n",
      "Requirement already satisfied: pymongo in /srv/conda/envs/notebook/lib/python3.7/site-packages (3.9.0)\n",
      "/bin/sh: 1: pip3: not found\n",
      "Requirement already satisfied: seaborn in /srv/conda/envs/notebook/lib/python3.7/site-packages (0.9.0)\n",
      "Requirement already satisfied: matplotlib>=1.4.3 in /srv/conda/envs/notebook/lib/python3.7/site-packages (from seaborn) (3.1.2)\n",
      "Requirement already satisfied: scipy>=0.14.0 in /srv/conda/envs/notebook/lib/python3.7/site-packages (from seaborn) (1.3.3)\n",
      "Requirement already satisfied: pandas>=0.15.2 in /srv/conda/envs/notebook/lib/python3.7/site-packages (from seaborn) (0.25.3)\n",
      "Requirement already satisfied: numpy>=1.9.3 in /srv/conda/envs/notebook/lib/python3.7/site-packages (from seaborn) (1.17.4)\n",
      "Requirement already satisfied: pyparsing!=2.0.4,!=2.1.2,!=2.1.6,>=2.0.1 in /srv/conda/envs/notebook/lib/python3.7/site-packages (from matplotlib>=1.4.3->seaborn) (2.4.5)\n",
      "Requirement already satisfied: cycler>=0.10 in /srv/conda/envs/notebook/lib/python3.7/site-packages (from matplotlib>=1.4.3->seaborn) (0.10.0)\n",
      "Requirement already satisfied: kiwisolver>=1.0.1 in /srv/conda/envs/notebook/lib/python3.7/site-packages (from matplotlib>=1.4.3->seaborn) (1.1.0)\n",
      "Requirement already satisfied: python-dateutil>=2.1 in /srv/conda/envs/notebook/lib/python3.7/site-packages (from matplotlib>=1.4.3->seaborn) (2.8.0)\n",
      "Requirement already satisfied: pytz>=2017.2 in /srv/conda/envs/notebook/lib/python3.7/site-packages (from pandas>=0.15.2->seaborn) (2019.3)\n",
      "Requirement already satisfied: six in /srv/conda/envs/notebook/lib/python3.7/site-packages (from cycler>=0.10->matplotlib>=1.4.3->seaborn) (1.12.0)\n",
      "Requirement already satisfied: setuptools in /srv/conda/envs/notebook/lib/python3.7/site-packages (from kiwisolver>=1.0.1->matplotlib>=1.4.3->seaborn) (41.2.0)\n",
      "Requirement already satisfied: matplotlib in /srv/conda/envs/notebook/lib/python3.7/site-packages (3.1.2)\n",
      "Requirement already satisfied: python-dateutil>=2.1 in /srv/conda/envs/notebook/lib/python3.7/site-packages (from matplotlib) (2.8.0)\n",
      "Requirement already satisfied: kiwisolver>=1.0.1 in /srv/conda/envs/notebook/lib/python3.7/site-packages (from matplotlib) (1.1.0)\n",
      "Requirement already satisfied: cycler>=0.10 in /srv/conda/envs/notebook/lib/python3.7/site-packages (from matplotlib) (0.10.0)\n",
      "Requirement already satisfied: numpy>=1.11 in /srv/conda/envs/notebook/lib/python3.7/site-packages (from matplotlib) (1.17.4)\n",
      "Requirement already satisfied: pyparsing!=2.0.4,!=2.1.2,!=2.1.6,>=2.0.1 in /srv/conda/envs/notebook/lib/python3.7/site-packages (from matplotlib) (2.4.5)\n",
      "Requirement already satisfied: six>=1.5 in /srv/conda/envs/notebook/lib/python3.7/site-packages (from python-dateutil>=2.1->matplotlib) (1.12.0)\n",
      "Requirement already satisfied: setuptools in /srv/conda/envs/notebook/lib/python3.7/site-packages (from kiwisolver>=1.0.1->matplotlib) (41.2.0)\n",
      "Collecting json\n",
      "\u001b[31m  ERROR: Could not find a version that satisfies the requirement json (from versions: none)\u001b[0m\n",
      "\u001b[31mERROR: No matching distribution found for json\u001b[0m\n"
     ]
    }
   ],
   "source": [
    "#check of de benodigde tools geinstalleerd zijn\n",
    "!pip install panda\n",
    "!pip install pandas\n",
    "!pip install pymongo\n",
    "!pip install seaborn\n",
    "!pip install matplotlib\n",
    "!pip install numpy"
   ]
  },
  {
   "cell_type": "code",
   "execution_count": 61,
   "metadata": {},
   "outputs": [
    {
     "name": "stdout",
     "output_type": "stream",
     "text": [
      "Path at terminal when executing this file\n",
      "/home/jovyan\n",
      "\n",
      "This file path, relative to os.getcwd()\n",
      "/home/jovyan\n"
     ]
    }
   ],
   "source": [
    "# wat is het pad naar je bestanden / je home directory\n",
    "import os\n",
    "cwd = os.getcwd()\n",
    "\n",
    "os.getcwd()\n",
    "\n",
    "import os\n",
    "print(\"Path at terminal when executing this file\")\n",
    "print(os.getcwd() + \"\\n\")\n",
    "\n",
    "print(\"This file path, relative to os.getcwd()\")\n",
    "\n",
    "from pathlib import Path\n",
    "\n",
    "print(Path.cwd())"
   ]
  },
  {
   "cell_type": "code",
   "execution_count": 67,
   "metadata": {},
   "outputs": [
    {
     "name": "stdout",
     "output_type": "stream",
     "text": [
      "/home/jovyan\r\n"
     ]
    }
   ],
   "source": [
    "#kortste manier om de homedirectory te vinden\n",
    "!pwd"
   ]
  },
  {
   "cell_type": "code",
   "execution_count": 62,
   "metadata": {},
   "outputs": [
    {
     "name": "stdout",
     "output_type": "stream",
     "text": [
      "/home/jovyan\n",
      "/srv/conda/envs/notebook/lib/python37.zip\n",
      "/srv/conda/envs/notebook/lib/python3.7\n",
      "/srv/conda/envs/notebook/lib/python3.7/lib-dynload\n",
      "\n",
      "/srv/conda/envs/notebook/lib/python3.7/site-packages\n",
      "/srv/conda/envs/notebook/lib/python3.7/site-packages/IPython/extensions\n",
      "/home/jovyan/.ipython\n"
     ]
    }
   ],
   "source": [
    "# welke libraries heb ik\n",
    "import sys\n",
    "for p in sys.path:\n",
    "    print(p)\n",
    "\n",
    "    path = os.path.abspath(os.path.dirname(sys.argv[0]))"
   ]
  },
  {
   "cell_type": "code",
   "execution_count": 63,
   "metadata": {},
   "outputs": [],
   "source": [
    "#start enkele imports (database, tekenen en modelleren van info)\n",
    "import pandas as pd\n",
    "import matplotlib.pyplot as plt\n",
    "import seaborn as sns\n",
    "sns.set(style=\"darkgrid\")"
   ]
  },
  {
   "cell_type": "code",
   "execution_count": 64,
   "metadata": {},
   "outputs": [],
   "source": [
    "#handleiding, soms nodig voor intiatlisatie\n",
    "import os\n",
    "os.environ[\"PATH\"]=os.environ[\"PATH\"] + \":/usr/local/bin\""
   ]
  },
  {
   "cell_type": "code",
   "execution_count": 65,
   "metadata": {},
   "outputs": [],
   "source": [
    "#inlezen / parsen van je database in jupyter. het pad vinden was ff lastig\n",
    "df = pd.read_json('/home/jovyan/mydata1.json')"
   ]
  },
  {
   "cell_type": "code",
   "execution_count": 66,
   "metadata": {},
   "outputs": [
    {
     "name": "stdout",
     "output_type": "stream",
     "text": [
      "/home/jovyan\r\n"
     ]
    }
   ],
   "source": []
  },
  {
   "cell_type": "code",
   "execution_count": 72,
   "metadata": {},
   "outputs": [
    {
     "data": {
      "text/html": [
       "<div>\n",
       "<style scoped>\n",
       "    .dataframe tbody tr th:only-of-type {\n",
       "        vertical-align: middle;\n",
       "    }\n",
       "\n",
       "    .dataframe tbody tr th {\n",
       "        vertical-align: top;\n",
       "    }\n",
       "\n",
       "    .dataframe thead th {\n",
       "        text-align: right;\n",
       "    }\n",
       "</style>\n",
       "<table border=\"1\" class=\"dataframe\">\n",
       "  <thead>\n",
       "    <tr style=\"text-align: right;\">\n",
       "      <th></th>\n",
       "      <th>As of Date</th>\n",
       "      <th>Data</th>\n",
       "    </tr>\n",
       "  </thead>\n",
       "  <tbody>\n",
       "    <tr>\n",
       "      <th>0</th>\n",
       "      <td>2019-09-30</td>\n",
       "      <td>{'Data Provider': 'Administration Wing, Chief Secretary for Administration's Office', 'Category': 'Miscellaneous', 'Collection of Datasets': 'Disaster Relie...</td>\n",
       "    </tr>\n",
       "    <tr>\n",
       "      <th>1</th>\n",
       "      <td>2019-09-30</td>\n",
       "      <td>{'Data Provider': 'Agriculture, Fisheries and Conservation Department', 'Category': 'Recreation and Culture', 'Collection of Datasets': 'Checklist of Biodiv...</td>\n",
       "    </tr>\n",
       "    <tr>\n",
       "      <th>2</th>\n",
       "      <td>2019-09-30</td>\n",
       "      <td>{'Data Provider': 'Agriculture, Fisheries and Conservation Department', 'Category': 'Recreation and Culture', 'Collection of Datasets': 'Country Parks and M...</td>\n",
       "    </tr>\n",
       "    <tr>\n",
       "      <th>3</th>\n",
       "      <td>2019-09-30</td>\n",
       "      <td>{'Data Provider': 'Agriculture, Fisheries and Conservation Department', 'Category': 'Recreation and Culture', 'Collection of Datasets': 'Distance Posts of C...</td>\n",
       "    </tr>\n",
       "    <tr>\n",
       "      <th>4</th>\n",
       "      <td>2019-09-30</td>\n",
       "      <td>{'Data Provider': 'Agriculture, Fisheries and Conservation Department', 'Category': 'Recreation and Culture', 'Collection of Datasets': 'Distance Posts of t...</td>\n",
       "    </tr>\n",
       "    <tr>\n",
       "      <th>5</th>\n",
       "      <td>2019-09-30</td>\n",
       "      <td>{'Data Provider': 'Agriculture, Fisheries and Conservation Department', 'Category': 'Food', 'Collection of Datasets': 'Pesticides Licensee List - Part I', '...</td>\n",
       "    </tr>\n",
       "    <tr>\n",
       "      <th>6</th>\n",
       "      <td>2019-09-30</td>\n",
       "      <td>{'Data Provider': 'Agriculture, Fisheries and Conservation Department', 'Category': 'Food', 'Collection of Datasets': 'Pesticides Licensee List - Part II', ...</td>\n",
       "    </tr>\n",
       "    <tr>\n",
       "      <th>7</th>\n",
       "      <td>2019-09-30</td>\n",
       "      <td>{'Data Provider': 'Agriculture, Fisheries and Conservation Department', 'Category': 'Recreation and Culture', 'Collection of Datasets': 'Position of Country...</td>\n",
       "    </tr>\n",
       "    <tr>\n",
       "      <th>8</th>\n",
       "      <td>2019-09-30</td>\n",
       "      <td>{'Data Provider': 'Agriculture, Fisheries and Conservation Department', 'Category': 'Food', 'Collection of Datasets': 'Registered Pesticides List - Part I',...</td>\n",
       "    </tr>\n",
       "  </tbody>\n",
       "</table>\n",
       "</div>"
      ],
      "text/plain": [
       "   As of Date                                                                                                                                                             Data\n",
       "0  2019-09-30  {'Data Provider': 'Administration Wing, Chief Secretary for Administration's Office', 'Category': 'Miscellaneous', 'Collection of Datasets': 'Disaster Relie...\n",
       "1  2019-09-30  {'Data Provider': 'Agriculture, Fisheries and Conservation Department', 'Category': 'Recreation and Culture', 'Collection of Datasets': 'Checklist of Biodiv...\n",
       "2  2019-09-30  {'Data Provider': 'Agriculture, Fisheries and Conservation Department', 'Category': 'Recreation and Culture', 'Collection of Datasets': 'Country Parks and M...\n",
       "3  2019-09-30  {'Data Provider': 'Agriculture, Fisheries and Conservation Department', 'Category': 'Recreation and Culture', 'Collection of Datasets': 'Distance Posts of C...\n",
       "4  2019-09-30  {'Data Provider': 'Agriculture, Fisheries and Conservation Department', 'Category': 'Recreation and Culture', 'Collection of Datasets': 'Distance Posts of t...\n",
       "5  2019-09-30  {'Data Provider': 'Agriculture, Fisheries and Conservation Department', 'Category': 'Food', 'Collection of Datasets': 'Pesticides Licensee List - Part I', '...\n",
       "6  2019-09-30  {'Data Provider': 'Agriculture, Fisheries and Conservation Department', 'Category': 'Food', 'Collection of Datasets': 'Pesticides Licensee List - Part II', ...\n",
       "7  2019-09-30  {'Data Provider': 'Agriculture, Fisheries and Conservation Department', 'Category': 'Recreation and Culture', 'Collection of Datasets': 'Position of Country...\n",
       "8  2019-09-30  {'Data Provider': 'Agriculture, Fisheries and Conservation Department', 'Category': 'Food', 'Collection of Datasets': 'Registered Pesticides List - Part I',..."
      ]
     },
     "execution_count": 72,
     "metadata": {},
     "output_type": "execute_result"
    }
   ],
   "source": [
    "#Hoe krijg ik iets te zien?\n",
    "city_env = pd.read_json('/home/jovyan/mydata1.json', orient='columns')\n",
    "city_env"
   ]
  },
  {
   "cell_type": "code",
   "execution_count": 73,
   "metadata": {},
   "outputs": [
    {
     "data": {
      "text/plain": [
       "0   2019-09-30\n",
       "1   2019-09-30\n",
       "2   2019-09-30\n",
       "3   2019-09-30\n",
       "4   2019-09-30\n",
       "5   2019-09-30\n",
       "6   2019-09-30\n",
       "7   2019-09-30\n",
       "8   2019-09-30\n",
       "dtype: datetime64[ns]"
      ]
     },
     "execution_count": 73,
     "metadata": {},
     "output_type": "execute_result"
    }
   ],
   "source": [
    "#waarom een foutmelding over index als ik een drill down wil doen? oplossing typ = 'series' \n",
    "As_of_Date = pd.read_json( (city_env['As of Date']).to_json(), typ='series' )\n",
    "As_of_Date"
   ]
  },
  {
   "cell_type": "code",
   "execution_count": 74,
   "metadata": {},
   "outputs": [],
   "source": [
    "# importeer alle hulpprogrammas\n",
    "import numpy as np\n",
    "import pandas as pd\n",
    "import seaborn as sns\n",
    "import matplotlib as plt\n",
    "import json\n",
    "%matplotlib inline\n",
    "import os\n",
    "os.environ[\"PATH\"]=os.environ[\"PATH\"] + \":/usr/local/bin\"\n",
    "\n",
    "with open('/home/jovyan/mydata1.json') as datafile:\n",
    "  data = json.load(datafile)\n",
    "dataframe = pd.DataFrame(data)"
   ]
  },
  {
   "cell_type": "code",
   "execution_count": null,
   "metadata": {},
   "outputs": [],
   "source": []
  },
  {
   "cell_type": "code",
   "execution_count": null,
   "metadata": {},
   "outputs": [],
   "source": []
  },
  {
   "cell_type": "code",
   "execution_count": 34,
   "metadata": {},
   "outputs": [
    {
     "name": "stdout",
     "output_type": "stream",
     "text": [
      "Mongo version 3.9.0\n",
      "Database name: jovyan-database\n"
     ]
    },
    {
     "data": {
      "text/plain": [
       "0"
      ]
     },
     "execution_count": 34,
     "metadata": {},
     "output_type": "execute_result"
    }
   ],
   "source": [
    "#Start de database en importeer een json bestand, uit de handleiding Eelco dijkstra.\n",
    "import os\n",
    "import re\n",
    "import numpy as np\n",
    "import pymongo\n",
    "\n",
    "print('Mongo version', pymongo.__version__)\n",
    "\n",
    "\n",
    "userline = !echo $USER\n",
    "username = userline[0]\n",
    "dbname = username + \"-database\"\n",
    "print(\"Database name: \" + dbname)\n",
    "\n",
    "client = pymongo.MongoClient('localhost', 27017)\n",
    "db = client[dbname]\n",
    "collection = db.contacts\n",
    "\n",
    "collection.drop()\n",
    "\n",
    "os.system('mongoimport -d ' + dbname + ' -c contacts mydata1.json')"
   ]
  },
  {
   "cell_type": "code",
   "execution_count": 35,
   "metadata": {},
   "outputs": [
    {
     "name": "stdout",
     "output_type": "stream",
     "text": [
      "{'As of Date': '2019-09-30', 'Data': [{'Data Provider': \"Administration Wing, Chief Secretary for Administration's Office\", 'Category': 'Miscellaneous', 'Collection of Datasets': 'Disaster Relief Fund Approved Grants', 'Name of Dataset': 'Disaster Relief Fund Approved Grants', 'Data Format': 'CSV'}, {'Data Provider': 'Agriculture, Fisheries and Conservation Department', 'Category': 'Recreation and Culture', 'Collection of Datasets': 'Checklist of Biodiversity of Hong Kong', 'Name of Dataset': 'Checklist of Biodiversity of Hong Kong', 'Data Format': 'CSV'}, {'Data Provider': 'Agriculture, Fisheries and Conservation Department', 'Category': 'Recreation and Culture', 'Collection of Datasets': 'Country Parks and Marine Parks Statistic', 'Name of Dataset': 'Country Parks and Marine Parks Statistic', 'Data Format': 'CSV'}, {'Data Provider': 'Agriculture, Fisheries and Conservation Department', 'Category': 'Recreation and Culture', 'Collection of Datasets': 'Distance Posts of Country Trails', 'Name of Dataset': 'Distance Posts of Country Trails', 'Data Format': 'CSV'}, {'Data Provider': 'Agriculture, Fisheries and Conservation Department', 'Category': 'Recreation and Culture', 'Collection of Datasets': 'Distance Posts of tree walks', 'Name of Dataset': 'Distance Posts of \\xa0tree walks', 'Data Format': 'CSV'}, {'Data Provider': 'Agriculture, Fisheries and Conservation Department', 'Category': 'Food', 'Collection of Datasets': 'Pesticides Licensee List - Part I', 'Name of Dataset': 'Pesticides Licensee List - Part I', 'Data Format': 'CSV'}, {'Data Provider': 'Agriculture, Fisheries and Conservation Department', 'Category': 'Food', 'Collection of Datasets': 'Pesticides Licensee List - Part II', 'Name of Dataset': 'Pesticides Licensee List - Part II', 'Data Format': 'CSV'}, {'Data Provider': 'Agriculture, Fisheries and Conservation Department', 'Category': 'Recreation and Culture', 'Collection of Datasets': 'Position of Country Park Water Drinking Fountain or Water Dispenser for General Public', 'Name of Dataset': 'Position of Country Park Water Drinking Fountain or Water Dispenser for General Public', 'Data Format': 'CSV'}, {'Data Provider': 'Agriculture, Fisheries and Conservation Department', 'Category': 'Food', 'Collection of Datasets': 'Registered Pesticides List - Part I', 'Name of Dataset': 'Part I of registered pesticides', 'Data Format': 'CSV'}]}\n"
     ]
    }
   ],
   "source": [
    "#Ga over alle objecten in de database\n",
    "cursor = collection.find({},{\"_id\":0})\n",
    "for obj in cursor:\n",
    "    print(obj)"
   ]
  },
  {
   "cell_type": "code",
   "execution_count": null,
   "metadata": {},
   "outputs": [],
   "source": [
    "\n"
   ]
  },
  {
   "cell_type": "code",
   "execution_count": null,
   "metadata": {},
   "outputs": [],
   "source": []
  },
  {
   "cell_type": "code",
   "execution_count": 75,
   "metadata": {},
   "outputs": [],
   "source": [
    "# eerste find opdracht\n",
    "cursor = collection.find({\"Data Provider\": \"Administration Wing, Chief Secretary for Administration's Office\"})\n",
    "for obj in cursor:\n",
    "    print(obj)"
   ]
  },
  {
   "cell_type": "code",
   "execution_count": 76,
   "metadata": {},
   "outputs": [
    {
     "name": "stdout",
     "output_type": "stream",
     "text": [
      "[{'Data Provider': \"Administration Wing, Chief Secretary for Administration's Office\", 'Category': 'Miscellaneous', 'Collection of Datasets': 'Disaster Relief Fund Approved Grants', 'Name of Dataset': 'Disaster Relief Fund Approved Grants', 'Data Format': 'CSV'}, {'Data Provider': 'Agriculture, Fisheries and Conservation Department', 'Category': 'Recreation and Culture', 'Collection of Datasets': 'Checklist of Biodiversity of Hong Kong', 'Name of Dataset': 'Checklist of Biodiversity of Hong Kong', 'Data Format': 'CSV'}, {'Data Provider': 'Agriculture, Fisheries and Conservation Department', 'Category': 'Recreation and Culture', 'Collection of Datasets': 'Country Parks and Marine Parks Statistic', 'Name of Dataset': 'Country Parks and Marine Parks Statistic', 'Data Format': 'CSV'}, {'Data Provider': 'Agriculture, Fisheries and Conservation Department', 'Category': 'Recreation and Culture', 'Collection of Datasets': 'Distance Posts of Country Trails', 'Name of Dataset': 'Distance Posts of Country Trails', 'Data Format': 'CSV'}, {'Data Provider': 'Agriculture, Fisheries and Conservation Department', 'Category': 'Recreation and Culture', 'Collection of Datasets': 'Distance Posts of tree walks', 'Name of Dataset': 'Distance Posts of \\xa0tree walks', 'Data Format': 'CSV'}, {'Data Provider': 'Agriculture, Fisheries and Conservation Department', 'Category': 'Food', 'Collection of Datasets': 'Pesticides Licensee List - Part I', 'Name of Dataset': 'Pesticides Licensee List - Part I', 'Data Format': 'CSV'}, {'Data Provider': 'Agriculture, Fisheries and Conservation Department', 'Category': 'Food', 'Collection of Datasets': 'Pesticides Licensee List - Part II', 'Name of Dataset': 'Pesticides Licensee List - Part II', 'Data Format': 'CSV'}, {'Data Provider': 'Agriculture, Fisheries and Conservation Department', 'Category': 'Recreation and Culture', 'Collection of Datasets': 'Position of Country Park Water Drinking Fountain or Water Dispenser for General Public', 'Name of Dataset': 'Position of Country Park Water Drinking Fountain or Water Dispenser for General Public', 'Data Format': 'CSV'}, {'Data Provider': 'Agriculture, Fisheries and Conservation Department', 'Category': 'Food', 'Collection of Datasets': 'Registered Pesticides List - Part I', 'Name of Dataset': 'Part I of registered pesticides', 'Data Format': 'CSV'}]\n",
      "{'_id': ObjectId('5de7b1fab89ff4c50016ea0e'), 'As of Date': '2019-09-30', 'Data': [{'Data Provider': \"Administration Wing, Chief Secretary for Administration's Office\", 'Category': 'Miscellaneous', 'Collection of Datasets': 'Disaster Relief Fund Approved Grants', 'Name of Dataset': 'Disaster Relief Fund Approved Grants', 'Data Format': 'CSV'}, {'Data Provider': 'Agriculture, Fisheries and Conservation Department', 'Category': 'Recreation and Culture', 'Collection of Datasets': 'Checklist of Biodiversity of Hong Kong', 'Name of Dataset': 'Checklist of Biodiversity of Hong Kong', 'Data Format': 'CSV'}, {'Data Provider': 'Agriculture, Fisheries and Conservation Department', 'Category': 'Recreation and Culture', 'Collection of Datasets': 'Country Parks and Marine Parks Statistic', 'Name of Dataset': 'Country Parks and Marine Parks Statistic', 'Data Format': 'CSV'}, {'Data Provider': 'Agriculture, Fisheries and Conservation Department', 'Category': 'Recreation and Culture', 'Collection of Datasets': 'Distance Posts of Country Trails', 'Name of Dataset': 'Distance Posts of Country Trails', 'Data Format': 'CSV'}, {'Data Provider': 'Agriculture, Fisheries and Conservation Department', 'Category': 'Recreation and Culture', 'Collection of Datasets': 'Distance Posts of tree walks', 'Name of Dataset': 'Distance Posts of \\xa0tree walks', 'Data Format': 'CSV'}, {'Data Provider': 'Agriculture, Fisheries and Conservation Department', 'Category': 'Food', 'Collection of Datasets': 'Pesticides Licensee List - Part I', 'Name of Dataset': 'Pesticides Licensee List - Part I', 'Data Format': 'CSV'}, {'Data Provider': 'Agriculture, Fisheries and Conservation Department', 'Category': 'Food', 'Collection of Datasets': 'Pesticides Licensee List - Part II', 'Name of Dataset': 'Pesticides Licensee List - Part II', 'Data Format': 'CSV'}, {'Data Provider': 'Agriculture, Fisheries and Conservation Department', 'Category': 'Recreation and Culture', 'Collection of Datasets': 'Position of Country Park Water Drinking Fountain or Water Dispenser for General Public', 'Name of Dataset': 'Position of Country Park Water Drinking Fountain or Water Dispenser for General Public', 'Data Format': 'CSV'}, {'Data Provider': 'Agriculture, Fisheries and Conservation Department', 'Category': 'Food', 'Collection of Datasets': 'Registered Pesticides List - Part I', 'Name of Dataset': 'Part I of registered pesticides', 'Data Format': 'CSV'}]}\n"
     ]
    }
   ],
   "source": [
    "# collection werkt nu\n",
    "cursor = collection.find()\n",
    "for obj in cursor:\n",
    "    print(obj[\"Data\"])\n",
    "    print(obj)"
   ]
  },
  {
   "cell_type": "code",
   "execution_count": 77,
   "metadata": {},
   "outputs": [],
   "source": [
    "pd.set_option('display.expand_frame_repr', False)"
   ]
  },
  {
   "cell_type": "code",
   "execution_count": 78,
   "metadata": {},
   "outputs": [
    {
     "name": "stdout",
     "output_type": "stream",
     "text": [
      "    As of Date                                                                                                                                                             Data\n",
      "0   2019-09-30  {'Data Provider': 'Administration Wing, Chief Secretary for Administration's Office', 'Category': 'Miscellaneous', 'Collection of Datasets': 'Disaster Relie...\n",
      "1   2019-09-30  {'Data Provider': 'Agriculture, Fisheries and Conservation Department', 'Category': 'Recreation and Culture', 'Collection of Datasets': 'Checklist of Biodiv...\n",
      "..         ...                                                                                                                                                              ...\n",
      "7   2019-09-30  {'Data Provider': 'Agriculture, Fisheries and Conservation Department', 'Category': 'Recreation and Culture', 'Collection of Datasets': 'Position of Country...\n",
      "8   2019-09-30  {'Data Provider': 'Agriculture, Fisheries and Conservation Department', 'Category': 'Food', 'Collection of Datasets': 'Registered Pesticides List - Part I',...\n",
      "\n",
      "[9 rows x 2 columns]\n"
     ]
    }
   ],
   "source": [
    "# dus dit is net zo slordig als de json via de browser\n",
    "with pd.option_context('display.max_rows', 5, 'display.max_columns', 5):\n",
    "    print (df)"
   ]
  },
  {
   "cell_type": "code",
   "execution_count": null,
   "metadata": {},
   "outputs": [],
   "source": []
  },
  {
   "cell_type": "code",
   "execution_count": 79,
   "metadata": {},
   "outputs": [
    {
     "data": {
      "text/html": [
       "<div>\n",
       "<style scoped>\n",
       "    .dataframe tbody tr th:only-of-type {\n",
       "        vertical-align: middle;\n",
       "    }\n",
       "\n",
       "    .dataframe tbody tr th {\n",
       "        vertical-align: top;\n",
       "    }\n",
       "\n",
       "    .dataframe thead th {\n",
       "        text-align: right;\n",
       "    }\n",
       "</style>\n",
       "<table border=\"1\" class=\"dataframe\">\n",
       "  <thead>\n",
       "    <tr style=\"text-align: right;\">\n",
       "      <th></th>\n",
       "      <th>0</th>\n",
       "      <th>1</th>\n",
       "      <th>2</th>\n",
       "      <th>3</th>\n",
       "      <th>4</th>\n",
       "      <th>5</th>\n",
       "      <th>6</th>\n",
       "      <th>7</th>\n",
       "      <th>8</th>\n",
       "    </tr>\n",
       "  </thead>\n",
       "  <tbody>\n",
       "    <tr>\n",
       "      <th>Data Provider</th>\n",
       "      <td>Administration Wing, Chief Secretary for Administration's Office</td>\n",
       "      <td>Agriculture, Fisheries and Conservation Department</td>\n",
       "      <td>Agriculture, Fisheries and Conservation Department</td>\n",
       "      <td>Agriculture, Fisheries and Conservation Department</td>\n",
       "      <td>Agriculture, Fisheries and Conservation Department</td>\n",
       "      <td>Agriculture, Fisheries and Conservation Department</td>\n",
       "      <td>Agriculture, Fisheries and Conservation Department</td>\n",
       "      <td>Agriculture, Fisheries and Conservation Department</td>\n",
       "      <td>Agriculture, Fisheries and Conservation Department</td>\n",
       "    </tr>\n",
       "    <tr>\n",
       "      <th>Category</th>\n",
       "      <td>Miscellaneous</td>\n",
       "      <td>Recreation and Culture</td>\n",
       "      <td>Recreation and Culture</td>\n",
       "      <td>Recreation and Culture</td>\n",
       "      <td>Recreation and Culture</td>\n",
       "      <td>Food</td>\n",
       "      <td>Food</td>\n",
       "      <td>Recreation and Culture</td>\n",
       "      <td>Food</td>\n",
       "    </tr>\n",
       "    <tr>\n",
       "      <th>Collection of Datasets</th>\n",
       "      <td>Disaster Relief Fund Approved Grants</td>\n",
       "      <td>Checklist of Biodiversity of Hong Kong</td>\n",
       "      <td>Country Parks and Marine Parks Statistic</td>\n",
       "      <td>Distance Posts of Country Trails</td>\n",
       "      <td>Distance Posts of tree walks</td>\n",
       "      <td>Pesticides Licensee List - Part I</td>\n",
       "      <td>Pesticides Licensee List - Part II</td>\n",
       "      <td>Position of Country Park Water Drinking Fountain or Water Dispenser for General Public</td>\n",
       "      <td>Registered Pesticides List - Part I</td>\n",
       "    </tr>\n",
       "    <tr>\n",
       "      <th>Name of Dataset</th>\n",
       "      <td>Disaster Relief Fund Approved Grants</td>\n",
       "      <td>Checklist of Biodiversity of Hong Kong</td>\n",
       "      <td>Country Parks and Marine Parks Statistic</td>\n",
       "      <td>Distance Posts of Country Trails</td>\n",
       "      <td>Distance Posts of  tree walks</td>\n",
       "      <td>Pesticides Licensee List - Part I</td>\n",
       "      <td>Pesticides Licensee List - Part II</td>\n",
       "      <td>Position of Country Park Water Drinking Fountain or Water Dispenser for General Public</td>\n",
       "      <td>Part I of registered pesticides</td>\n",
       "    </tr>\n",
       "    <tr>\n",
       "      <th>Data Format</th>\n",
       "      <td>CSV</td>\n",
       "      <td>CSV</td>\n",
       "      <td>CSV</td>\n",
       "      <td>CSV</td>\n",
       "      <td>CSV</td>\n",
       "      <td>CSV</td>\n",
       "      <td>CSV</td>\n",
       "      <td>CSV</td>\n",
       "      <td>CSV</td>\n",
       "    </tr>\n",
       "  </tbody>\n",
       "</table>\n",
       "</div>"
      ],
      "text/plain": [
       "                                                                                       0                                                   1                                                   2                                                   3                                                   4                                                   5                                                   6                                                                                       7                                                   8\n",
       "Data Provider           Administration Wing, Chief Secretary for Administration's Office  Agriculture, Fisheries and Conservation Department  Agriculture, Fisheries and Conservation Department  Agriculture, Fisheries and Conservation Department  Agriculture, Fisheries and Conservation Department  Agriculture, Fisheries and Conservation Department  Agriculture, Fisheries and Conservation Department                                      Agriculture, Fisheries and Conservation Department  Agriculture, Fisheries and Conservation Department\n",
       "Category                                                                   Miscellaneous                              Recreation and Culture                              Recreation and Culture                              Recreation and Culture                              Recreation and Culture                                                Food                                                Food                                                                  Recreation and Culture                                                Food\n",
       "Collection of Datasets                              Disaster Relief Fund Approved Grants              Checklist of Biodiversity of Hong Kong            Country Parks and Marine Parks Statistic                    Distance Posts of Country Trails                        Distance Posts of tree walks                   Pesticides Licensee List - Part I                  Pesticides Licensee List - Part II  Position of Country Park Water Drinking Fountain or Water Dispenser for General Public                 Registered Pesticides List - Part I\n",
       "Name of Dataset                                     Disaster Relief Fund Approved Grants              Checklist of Biodiversity of Hong Kong            Country Parks and Marine Parks Statistic                    Distance Posts of Country Trails                       Distance Posts of  tree walks                   Pesticides Licensee List - Part I                  Pesticides Licensee List - Part II  Position of Country Park Water Drinking Fountain or Water Dispenser for General Public                     Part I of registered pesticides\n",
       "Data Format                                                                          CSV                                                 CSV                                                 CSV                                                 CSV                                                 CSV                                                 CSV                                                 CSV                                                                                     CSV                                                 CSV"
      ]
     },
     "execution_count": 79,
     "metadata": {},
     "output_type": "execute_result"
    }
   ],
   "source": [
    "# ok. een gestructureerde weergave. schijnt dat je ook kunt tekenen.\n",
    "Data = pd.read_json( (city_env['Data']).to_json(), orient=('columns') )\n",
    "Data"
   ]
  },
  {
   "cell_type": "code",
   "execution_count": 80,
   "metadata": {},
   "outputs": [],
   "source": [
    "import json\n",
    "with open('/home/jovyan/mydata1.json', 'r') as f:\n",
    "    data = json.load(f)"
   ]
  },
  {
   "cell_type": "code",
   "execution_count": 81,
   "metadata": {},
   "outputs": [],
   "source": [
    "# next step is om de dataframe als tekening te laten genereren\n",
    "df = pd.DataFrame({'count': data})"
   ]
  },
  {
   "cell_type": "code",
   "execution_count": null,
   "metadata": {},
   "outputs": [],
   "source": [
    "# next step is de volledige file via https://jsonformatter.curiousconcept.com/ te valideren en in te laden\n",
    "# next step is om de CRUD uit de handleiding te volgen op je eigen database\n"
   ]
  },
  {
   "cell_type": "code",
   "execution_count": null,
   "metadata": {},
   "outputs": [],
   "source": []
  }
 ],
 "metadata": {
  "kernelspec": {
   "display_name": "Python 3",
   "language": "python",
   "name": "python3"
  },
  "language_info": {
   "codemirror_mode": {
    "name": "ipython",
    "version": 3
   },
   "file_extension": ".py",
   "mimetype": "text/x-python",
   "name": "python",
   "nbconvert_exporter": "python",
   "pygments_lexer": "ipython3",
   "version": "3.7.3"
  }
 },
 "nbformat": 4,
 "nbformat_minor": 4
}

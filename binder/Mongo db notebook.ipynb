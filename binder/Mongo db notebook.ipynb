{
 "cells": [
  {
   "cell_type": "code",
   "execution_count": null,
   "metadata": {},
   "outputs": [],
   "source": [
    "#initialisatie (mogelijk nodig)\n",
    "import os\n",
    "os.environ[\"PATH\"] += \":/usr/local/bin\""
   ]
  },
  {
   "cell_type": "markdown",
   "metadata": {},
   "source": [
    "#eerst installeren we pakketten via de shell (dus met ! ervoor)\n",
    "!pip3 install --upgrade pip\n",
    "!pip3 install pymongo\n",
    "!pip3 install homebrew\n",
    "!brew tap mongodb/brew\n",
    "!brew install mongodb-community\n",
    "!brew services start mongodb-community"
   ]
  },
  {
   "cell_type": "code",
   "execution_count": null,
   "metadata": {},
   "outputs": [],
   "source": [
    "#Start de database en importeer een json bestand\n",
    "import os\n",
    "import re\n",
    "import numpy as np\n",
    "import pymongo\n",
    "\n",
    "print('Mongo version', pymongo.__version__)\n",
    "\n",
    "\n",
    "userline = !echo $USER\n",
    "username = userline[0]\n",
    "dbname = username + \"-database\"\n",
    "print(\"Database name: \" + dbname)\n",
    "\n",
    "client = pymongo.MongoClient('localhost', 27017)\n",
    "db = client[dbname]\n",
    "collection = db.contacts\n",
    "\n",
    "collection.drop()\n",
    "\n",
    "os.system('mongoimport -d ' + dbname + ' -c contacts kleuren.json')"
   ]
  },
  {
   "cell_type": "code",
   "execution_count": null,
   "metadata": {},
   "outputs": [],
   "source": [
    "#Ga over alle objecten in de database\n",
    "cursor = collection.find({},{\"_id\":0})\n",
    "for obj in cursor:\n",
    "    print(obj)"
   ]
  },
  {
   "cell_type": "code",
   "execution_count": null,
   "metadata": {},
   "outputs": [],
   "source": []
  }
 ],
 "metadata": {
  "kernelspec": {
   "display_name": "Python 3",
   "language": "python",
   "name": "python3"
  },
  "language_info": {
   "codemirror_mode": {
    "name": "ipython",
    "version": 3
   },
   "file_extension": ".py",
   "mimetype": "text/x-python",
   "name": "python",
   "nbconvert_exporter": "python",
   "pygments_lexer": "ipython3",
   "version": "3.7.0"
  }
 },
 "nbformat": 4,
 "nbformat_minor": 2
}
